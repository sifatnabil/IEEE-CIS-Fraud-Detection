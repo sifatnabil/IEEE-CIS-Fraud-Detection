{
 "cells": [
  {
   "cell_type": "markdown",
   "metadata": {},
   "source": [
    "### Started Notebook: https://www.kaggle.com/kickitlikeshika/fraud-detection-with-92-acc"
   ]
  },
  {
   "cell_type": "markdown",
   "metadata": {},
   "source": [
    "### Load the Dataset from Google Drive and Move it to Colab Local Space"
   ]
  },
  {
   "cell_type": "code",
   "execution_count": 32,
   "metadata": {
    "id": "e52oNsD07-qn"
   },
   "outputs": [],
   "source": [
    "cp \"drive/MyDrive/Colab Notebooks/Datasets/ieee-fraud-detection.zip\" ."
   ]
  },
  {
   "cell_type": "code",
   "execution_count": 2,
   "metadata": {
    "colab": {
     "base_uri": "https://localhost:8080/"
    },
    "id": "j-F6R_7i8OyW",
    "outputId": "a034085d-7028-492a-b465-53ca5f77ff55"
   },
   "outputs": [
    {
     "name": "stdout",
     "output_type": "stream",
     "text": [
      "Archive:  ieee-fraud-detection.zip\n",
      "  inflating: sample_submission.csv   \n",
      "  inflating: test_identity.csv       \n",
      "  inflating: test_transaction.csv    \n",
      "  inflating: train_identity.csv      \n",
      "  inflating: train_transaction.csv   \n"
     ]
    }
   ],
   "source": [
    "!unzip ieee-fraud-detection.zip"
   ]
  },
  {
   "cell_type": "code",
   "execution_count": 33,
   "metadata": {
    "id": "gwPTXgMN8QJe"
   },
   "outputs": [],
   "source": [
    "import pandas as pd\n",
    "import lightgbm as lgb"
   ]
  },
  {
   "cell_type": "markdown",
   "metadata": {},
   "source": [
    "### Load the Tables"
   ]
  },
  {
   "cell_type": "code",
   "execution_count": 34,
   "metadata": {
    "id": "LC9X7szp8krB"
   },
   "outputs": [],
   "source": [
    "train_transaction = pd.read_csv(\"train_transaction.csv\")\n",
    "train_identity = pd.read_csv(\"train_identity.csv\")\n",
    "test_transaction = pd.read_csv(\"test_transaction.csv\")\n",
    "test_identity = pd.read_csv(\"test_identity.csv\")"
   ]
  },
  {
   "cell_type": "code",
   "execution_count": 47,
   "metadata": {
    "colab": {
     "base_uri": "https://localhost:8080/"
    },
    "id": "ra8wEoyi8sOy",
    "outputId": "eecf1d90-c3ef-4cfc-ba25-0868a969730c"
   },
   "outputs": [
    {
     "name": "stdout",
     "output_type": "stream",
     "text": [
      "(590540, 394)\n",
      "(144233, 41)\n",
      "(506691, 393)\n",
      "(141907, 41)\n"
     ]
    }
   ],
   "source": [
    "print(train_transaction.shape)\n",
    "print(train_identity.shape)\n",
    "print(test_transaction.shape)\n",
    "print(test_identity.shape)"
   ]
  },
  {
   "cell_type": "code",
   "execution_count": 49,
   "metadata": {
    "colab": {
     "base_uri": "https://localhost:8080/"
    },
    "id": "tFM1z049_ohG",
    "outputId": "25395434-a68c-4ba5-c74d-235885b40e53"
   },
   "outputs": [
    {
     "data": {
      "text/plain": [
       "((590540, 434), (506691, 433))"
      ]
     },
     "execution_count": 49,
     "metadata": {
      "tags": []
     },
     "output_type": "execute_result"
    }
   ],
   "source": [
    "train.shape, test.shape"
   ]
  },
  {
   "cell_type": "markdown",
   "metadata": {},
   "source": [
    "### Join the Tables for both Train and Test set."
   ]
  },
  {
   "cell_type": "code",
   "execution_count": 48,
   "metadata": {
    "id": "dMMbJRFo8xli"
   },
   "outputs": [],
   "source": [
    "train = pd.merge(train_transaction, train_identity, on=\"TransactionID\", how=\"left\")\n",
    "test = pd.merge(test_transaction, test_identity, on=\"TransactionID\", how=\"left\")"
   ]
  },
  {
   "cell_type": "code",
   "execution_count": 54,
   "metadata": {
    "id": "YbPx1Xxo81Dw"
   },
   "outputs": [],
   "source": [
    "test = test.rename(columns={\"id-01\": \"id_01\", \"id-02\": \"id_02\", \"id-03\": \"id_03\",\n",
    "                            \"id-06\": \"id_06\", \"id-05\": \"id_05\", \"id-04\": \"id_04\",\n",
    "                            \"id-07\": \"id_07\", \"id-08\": \"id_08\", \"id-09\": \"id_09\",\n",
    "                            \"id-10\": \"id_10\", \"id-11\": \"id_11\", \"id-12\": \"id_12\",\n",
    "                            \"id-15\": \"id_15\", \"id-14\": \"id_14\", \"id-13\": \"id_13\",\n",
    "                            \"id-16\": \"id_16\", \"id-17\": \"id_17\", \"id-18\": \"id_18\",\n",
    "                            \"id-21\": \"id_21\", \"id-20\": \"id_20\", \"id-19\": \"id_19\",\n",
    "                            \"id-22\": \"id_22\", \"id-23\": \"id_23\", \"id-24\": \"id_24\",\n",
    "                            \"id-27\": \"id_27\", \"id-26\": \"id_26\", \"id-25\": \"id_25\",\n",
    "                            \"id-28\": \"id_28\", \"id-29\": \"id_29\", \"id-30\": \"id_30\",\n",
    "                            \"id-31\": \"id_31\", \"id-32\": \"id_32\", \"id-33\": \"id_33\",\n",
    "                            \"id-34\": \"id_34\", \"id-35\": \"id_35\", \"id-36\": \"id_36\",\n",
    "                            \"id-37\": \"id_37\", \"id-38\": \"id_38\"})"
   ]
  },
  {
   "cell_type": "code",
   "execution_count": 7,
   "metadata": {
    "id": "sQJ4A_f086QC"
   },
   "outputs": [],
   "source": [
    "del train_transaction\n",
    "del train_identity\n",
    "del test_transaction\n",
    "del test_identity"
   ]
  },
  {
   "cell_type": "markdown",
   "metadata": {},
   "source": [
    "### Count the Number of Missing Values for each feature"
   ]
  },
  {
   "cell_type": "code",
   "execution_count": 50,
   "metadata": {
    "id": "9wRBT-5T88Rk"
   },
   "outputs": [],
   "source": [
    "def get_missing_values(data):\n",
    "    total = data.isnull().sum().sort_values(ascending=False)\n",
    "    percent = (data.isnull().sum() / data.isnull().count()).sort_values(ascending=False)\n",
    "    missing_data = pd.concat([total, percent], axis=1, keys=['total', 'percent'])\n",
    "    return missing_data"
   ]
  },
  {
   "cell_type": "code",
   "execution_count": 51,
   "metadata": {
    "colab": {
     "base_uri": "https://localhost:8080/",
     "height": 160
    },
    "id": "6O3q_dQ38_U0",
    "outputId": "3c5bca82-865b-43d9-eb06-e2d720497f45"
   },
   "outputs": [
    {
     "data": {
      "text/html": [
       "<div>\n",
       "<style scoped>\n",
       "    .dataframe tbody tr th:only-of-type {\n",
       "        vertical-align: middle;\n",
       "    }\n",
       "\n",
       "    .dataframe tbody tr th {\n",
       "        vertical-align: top;\n",
       "    }\n",
       "\n",
       "    .dataframe thead th {\n",
       "        text-align: right;\n",
       "    }\n",
       "</style>\n",
       "<table border=\"1\" class=\"dataframe\">\n",
       "  <thead>\n",
       "    <tr style=\"text-align: right;\">\n",
       "      <th></th>\n",
       "      <th>id_24</th>\n",
       "      <th>id_25</th>\n",
       "      <th>id_07</th>\n",
       "      <th>id_08</th>\n",
       "      <th>id_21</th>\n",
       "      <th>id_26</th>\n",
       "      <th>id_22</th>\n",
       "      <th>id_23</th>\n",
       "      <th>id_27</th>\n",
       "      <th>dist2</th>\n",
       "      <th>D7</th>\n",
       "      <th>id_18</th>\n",
       "      <th>D13</th>\n",
       "      <th>D14</th>\n",
       "      <th>D12</th>\n",
       "      <th>id_04</th>\n",
       "      <th>id_03</th>\n",
       "      <th>D6</th>\n",
       "      <th>id_33</th>\n",
       "      <th>id_10</th>\n",
       "      <th>D8</th>\n",
       "      <th>D9</th>\n",
       "      <th>id_09</th>\n",
       "      <th>id_30</th>\n",
       "      <th>id_32</th>\n",
       "      <th>id_34</th>\n",
       "      <th>id_14</th>\n",
       "      <th>V149</th>\n",
       "      <th>V153</th>\n",
       "      <th>V156</th>\n",
       "      <th>V154</th>\n",
       "      <th>V155</th>\n",
       "      <th>V157</th>\n",
       "      <th>V158</th>\n",
       "      <th>V161</th>\n",
       "      <th>V163</th>\n",
       "      <th>V147</th>\n",
       "      <th>V148</th>\n",
       "      <th>V162</th>\n",
       "      <th>V146</th>\n",
       "      <th>...</th>\n",
       "      <th>V336</th>\n",
       "      <th>V335</th>\n",
       "      <th>V334</th>\n",
       "      <th>V333</th>\n",
       "      <th>V332</th>\n",
       "      <th>V331</th>\n",
       "      <th>V330</th>\n",
       "      <th>V329</th>\n",
       "      <th>V328</th>\n",
       "      <th>V327</th>\n",
       "      <th>V326</th>\n",
       "      <th>V325</th>\n",
       "      <th>V324</th>\n",
       "      <th>V323</th>\n",
       "      <th>DeviceInfo</th>\n",
       "      <th>id_13</th>\n",
       "      <th>id_16</th>\n",
       "      <th>V237</th>\n",
       "      <th>V230</th>\n",
       "      <th>V267</th>\n",
       "      <th>V266</th>\n",
       "      <th>V265</th>\n",
       "      <th>V264</th>\n",
       "      <th>V263</th>\n",
       "      <th>V262</th>\n",
       "      <th>V261</th>\n",
       "      <th>V260</th>\n",
       "      <th>V228</th>\n",
       "      <th>V258</th>\n",
       "      <th>V257</th>\n",
       "      <th>V229</th>\n",
       "      <th>V254</th>\n",
       "      <th>V269</th>\n",
       "      <th>V253</th>\n",
       "      <th>V252</th>\n",
       "      <th>V231</th>\n",
       "      <th>V232</th>\n",
       "      <th>V249</th>\n",
       "      <th>V248</th>\n",
       "      <th>V247</th>\n",
       "    </tr>\n",
       "  </thead>\n",
       "  <tbody>\n",
       "    <tr>\n",
       "      <th>total</th>\n",
       "      <td>585793.000000</td>\n",
       "      <td>585408.00000</td>\n",
       "      <td>585385.000000</td>\n",
       "      <td>585385.000000</td>\n",
       "      <td>585381.000000</td>\n",
       "      <td>585377.000000</td>\n",
       "      <td>585371.000000</td>\n",
       "      <td>585371.000000</td>\n",
       "      <td>585371.000000</td>\n",
       "      <td>552913.000000</td>\n",
       "      <td>551623.000000</td>\n",
       "      <td>545427.000000</td>\n",
       "      <td>528588.000000</td>\n",
       "      <td>528353.000000</td>\n",
       "      <td>525823.00000</td>\n",
       "      <td>524216.000000</td>\n",
       "      <td>524216.000000</td>\n",
       "      <td>517353.000000</td>\n",
       "      <td>517251.000000</td>\n",
       "      <td>515614.000000</td>\n",
       "      <td>515614.000000</td>\n",
       "      <td>515614.000000</td>\n",
       "      <td>515614.000000</td>\n",
       "      <td>512975.000000</td>\n",
       "      <td>512954.000000</td>\n",
       "      <td>512735.000000</td>\n",
       "      <td>510496.000000</td>\n",
       "      <td>508595.000000</td>\n",
       "      <td>508595.000000</td>\n",
       "      <td>508595.000000</td>\n",
       "      <td>508595.000000</td>\n",
       "      <td>508595.000000</td>\n",
       "      <td>508595.000000</td>\n",
       "      <td>508595.000000</td>\n",
       "      <td>508595.000000</td>\n",
       "      <td>508595.000000</td>\n",
       "      <td>508595.000000</td>\n",
       "      <td>508595.000000</td>\n",
       "      <td>508595.000000</td>\n",
       "      <td>508595.000000</td>\n",
       "      <td>...</td>\n",
       "      <td>508189.00000</td>\n",
       "      <td>508189.00000</td>\n",
       "      <td>508189.00000</td>\n",
       "      <td>508189.00000</td>\n",
       "      <td>508189.00000</td>\n",
       "      <td>508189.00000</td>\n",
       "      <td>508189.00000</td>\n",
       "      <td>508189.00000</td>\n",
       "      <td>508189.00000</td>\n",
       "      <td>508189.00000</td>\n",
       "      <td>508189.00000</td>\n",
       "      <td>508189.00000</td>\n",
       "      <td>508189.00000</td>\n",
       "      <td>508189.00000</td>\n",
       "      <td>471874.000000</td>\n",
       "      <td>463220.000000</td>\n",
       "      <td>461200.00000</td>\n",
       "      <td>460110.000000</td>\n",
       "      <td>460110.000000</td>\n",
       "      <td>460110.000000</td>\n",
       "      <td>460110.000000</td>\n",
       "      <td>460110.000000</td>\n",
       "      <td>460110.000000</td>\n",
       "      <td>460110.000000</td>\n",
       "      <td>460110.000000</td>\n",
       "      <td>460110.000000</td>\n",
       "      <td>460110.000000</td>\n",
       "      <td>460110.000000</td>\n",
       "      <td>460110.000000</td>\n",
       "      <td>460110.000000</td>\n",
       "      <td>460110.000000</td>\n",
       "      <td>460110.000000</td>\n",
       "      <td>460110.000000</td>\n",
       "      <td>460110.000000</td>\n",
       "      <td>460110.000000</td>\n",
       "      <td>460110.000000</td>\n",
       "      <td>460110.000000</td>\n",
       "      <td>460110.000000</td>\n",
       "      <td>460110.000000</td>\n",
       "      <td>460110.000000</td>\n",
       "    </tr>\n",
       "    <tr>\n",
       "      <th>percent</th>\n",
       "      <td>0.991962</td>\n",
       "      <td>0.99131</td>\n",
       "      <td>0.991271</td>\n",
       "      <td>0.991271</td>\n",
       "      <td>0.991264</td>\n",
       "      <td>0.991257</td>\n",
       "      <td>0.991247</td>\n",
       "      <td>0.991247</td>\n",
       "      <td>0.991247</td>\n",
       "      <td>0.936284</td>\n",
       "      <td>0.934099</td>\n",
       "      <td>0.923607</td>\n",
       "      <td>0.895093</td>\n",
       "      <td>0.894695</td>\n",
       "      <td>0.89041</td>\n",
       "      <td>0.887689</td>\n",
       "      <td>0.887689</td>\n",
       "      <td>0.876068</td>\n",
       "      <td>0.875895</td>\n",
       "      <td>0.873123</td>\n",
       "      <td>0.873123</td>\n",
       "      <td>0.873123</td>\n",
       "      <td>0.873123</td>\n",
       "      <td>0.868654</td>\n",
       "      <td>0.868619</td>\n",
       "      <td>0.868248</td>\n",
       "      <td>0.864456</td>\n",
       "      <td>0.861237</td>\n",
       "      <td>0.861237</td>\n",
       "      <td>0.861237</td>\n",
       "      <td>0.861237</td>\n",
       "      <td>0.861237</td>\n",
       "      <td>0.861237</td>\n",
       "      <td>0.861237</td>\n",
       "      <td>0.861237</td>\n",
       "      <td>0.861237</td>\n",
       "      <td>0.861237</td>\n",
       "      <td>0.861237</td>\n",
       "      <td>0.861237</td>\n",
       "      <td>0.861237</td>\n",
       "      <td>...</td>\n",
       "      <td>0.86055</td>\n",
       "      <td>0.86055</td>\n",
       "      <td>0.86055</td>\n",
       "      <td>0.86055</td>\n",
       "      <td>0.86055</td>\n",
       "      <td>0.86055</td>\n",
       "      <td>0.86055</td>\n",
       "      <td>0.86055</td>\n",
       "      <td>0.86055</td>\n",
       "      <td>0.86055</td>\n",
       "      <td>0.86055</td>\n",
       "      <td>0.86055</td>\n",
       "      <td>0.86055</td>\n",
       "      <td>0.86055</td>\n",
       "      <td>0.799055</td>\n",
       "      <td>0.784401</td>\n",
       "      <td>0.78098</td>\n",
       "      <td>0.779134</td>\n",
       "      <td>0.779134</td>\n",
       "      <td>0.779134</td>\n",
       "      <td>0.779134</td>\n",
       "      <td>0.779134</td>\n",
       "      <td>0.779134</td>\n",
       "      <td>0.779134</td>\n",
       "      <td>0.779134</td>\n",
       "      <td>0.779134</td>\n",
       "      <td>0.779134</td>\n",
       "      <td>0.779134</td>\n",
       "      <td>0.779134</td>\n",
       "      <td>0.779134</td>\n",
       "      <td>0.779134</td>\n",
       "      <td>0.779134</td>\n",
       "      <td>0.779134</td>\n",
       "      <td>0.779134</td>\n",
       "      <td>0.779134</td>\n",
       "      <td>0.779134</td>\n",
       "      <td>0.779134</td>\n",
       "      <td>0.779134</td>\n",
       "      <td>0.779134</td>\n",
       "      <td>0.779134</td>\n",
       "    </tr>\n",
       "  </tbody>\n",
       "</table>\n",
       "<p>2 rows × 100 columns</p>\n",
       "</div>"
      ],
      "text/plain": [
       "                 id_24         id_25  ...           V248           V247\n",
       "total    585793.000000  585408.00000  ...  460110.000000  460110.000000\n",
       "percent       0.991962       0.99131  ...       0.779134       0.779134\n",
       "\n",
       "[2 rows x 100 columns]"
      ]
     },
     "execution_count": 51,
     "metadata": {
      "tags": []
     },
     "output_type": "execute_result"
    }
   ],
   "source": [
    "missing_values = get_missing_values(train)\n",
    "missing_values.head(100).T"
   ]
  },
  {
   "cell_type": "markdown",
   "metadata": {},
   "source": [
    "### Drop the features with More than 1,00,000 missing values."
   ]
  },
  {
   "cell_type": "code",
   "execution_count": 52,
   "metadata": {
    "colab": {
     "base_uri": "https://localhost:8080/"
    },
    "id": "eOy2xmmR8_vM",
    "outputId": "941444a6-51c3-41e8-b22d-af55b548e822"
   },
   "outputs": [
    {
     "data": {
      "text/plain": [
       "Index(['id_24', 'id_25', 'id_07', 'id_08', 'id_21', 'id_26', 'id_22', 'id_23',\n",
       "       'id_27', 'dist2',\n",
       "       ...\n",
       "       'V43', 'V49', 'V41', 'V40', 'V39', 'V38', 'V37', 'V36', 'V35', 'D4'],\n",
       "      dtype='object', length=252)"
      ]
     },
     "execution_count": 52,
     "metadata": {
      "tags": []
     },
     "output_type": "execute_result"
    }
   ],
   "source": [
    "cols_to_drop = missing_values[missing_values['total'] > 100000].index\n",
    "cols_to_drop"
   ]
  },
  {
   "cell_type": "code",
   "execution_count": 55,
   "metadata": {
    "id": "4ar5aZHS9BR1"
   },
   "outputs": [],
   "source": [
    "train.drop(cols_to_drop, axis=1, inplace=True)\n",
    "test.drop(cols_to_drop, axis=1, inplace=True)"
   ]
  },
  {
   "cell_type": "code",
   "execution_count": 56,
   "metadata": {
    "id": "_t7DXZkI9Cus"
   },
   "outputs": [],
   "source": [
    "test_transactionID = test.TransactionID"
   ]
  },
  {
   "cell_type": "markdown",
   "metadata": {},
   "source": [
    "### Drop the Column `TransactionID` as it is not a relavant feature and also drop features that have more than 15,000 missing values. "
   ]
  },
  {
   "cell_type": "code",
   "execution_count": 57,
   "metadata": {
    "id": "f87HLiyz9EXE"
   },
   "outputs": [],
   "source": [
    "train.drop(['TransactionID'], axis=1, inplace=True)\n",
    "test.drop(['TransactionID'], axis=1, inplace=True)"
   ]
  },
  {
   "cell_type": "code",
   "execution_count": 58,
   "metadata": {
    "id": "N7846zG-9Fpl"
   },
   "outputs": [],
   "source": [
    "missing_values = get_missing_values(train)"
   ]
  },
  {
   "cell_type": "code",
   "execution_count": 59,
   "metadata": {
    "colab": {
     "base_uri": "https://localhost:8080/"
    },
    "id": "vdqc6LAo9G61",
    "outputId": "42d5d8b9-a60b-40c3-fcf3-841ea9e33375"
   },
   "outputs": [
    {
     "data": {
      "text/plain": [
       "Index(['P_emaildomain', 'V90', 'V75', 'V77', 'V78', 'V79', 'V80', 'V81', 'V82',\n",
       "       'V83', 'V84', 'V85', 'V86', 'V87', 'V88', 'V89', 'V91', 'V92', 'V93',\n",
       "       'V76', 'V94', 'D15', 'V69', 'V70', 'V53', 'V54', 'V55', 'V56', 'V57',\n",
       "       'V58', 'V59', 'V60', 'V61', 'V62', 'V63', 'V64', 'V65', 'V66', 'V67',\n",
       "       'V68', 'V74', 'V73', 'V72', 'V71', 'V31', 'V32', 'V34', 'V33', 'V16',\n",
       "       'V14', 'V29', 'V28', 'V27', 'V26', 'V25', 'V24', 'V23', 'V22', 'V21',\n",
       "       'V20', 'V19', 'V18', 'V17', 'V15', 'V30', 'V13', 'V12', 'D10', 'addr2',\n",
       "       'addr1'],\n",
       "      dtype='object')"
      ]
     },
     "execution_count": 59,
     "metadata": {
      "tags": []
     },
     "output_type": "execute_result"
    }
   ],
   "source": [
    "cols_to_drop = missing_values[missing_values['total'] > 15000].index\n",
    "cols_to_drop"
   ]
  },
  {
   "cell_type": "code",
   "execution_count": 60,
   "metadata": {
    "id": "zZEXsEGi9IBV"
   },
   "outputs": [],
   "source": [
    "train.drop(cols_to_drop, axis=1, inplace=True)\n",
    "test.drop(cols_to_drop, axis=1, inplace=True)"
   ]
  },
  {
   "cell_type": "code",
   "execution_count": 61,
   "metadata": {
    "colab": {
     "base_uri": "https://localhost:8080/"
    },
    "id": "4dRcCQbxCmtA",
    "outputId": "b4034bb9-4393-42d0-f91f-3965f5451c34"
   },
   "outputs": [
    {
     "data": {
      "text/plain": [
       "((590540, 111), (506691, 110))"
      ]
     },
     "execution_count": 61,
     "metadata": {
      "tags": []
     },
     "output_type": "execute_result"
    }
   ],
   "source": [
    "train.shape, test.shape"
   ]
  },
  {
   "cell_type": "code",
   "execution_count": 17,
   "metadata": {
    "colab": {
     "base_uri": "https://localhost:8080/"
    },
    "id": "9mVEsETR9Jdm",
    "outputId": "24038a37-6e6f-4e24-c054-46676a6e50e8"
   },
   "outputs": [
    {
     "data": {
      "text/plain": [
       "({dtype('int64'), dtype('float64'), dtype('O')},\n",
       " {dtype('int64'), dtype('float64'), dtype('O')})"
      ]
     },
     "execution_count": 17,
     "metadata": {
      "tags": []
     },
     "output_type": "execute_result"
    }
   ],
   "source": [
    "set(train.dtypes), set(test.dtypes)"
   ]
  },
  {
   "cell_type": "markdown",
   "metadata": {},
   "source": [
    "### Fill the rest of the Missing Values with Median for Numerical Features and Mode for Categorical Features"
   ]
  },
  {
   "cell_type": "code",
   "execution_count": 18,
   "metadata": {
    "id": "MHUyD_U09Kn2"
   },
   "outputs": [],
   "source": [
    "train_columns = train.columns\n",
    "for col in train_columns:\n",
    "    if train[col].dtype == 'object':\n",
    "        train[col] = train[col].fillna(train[col].mode()[0])\n",
    "    else:\n",
    "        train[col] = train[col].fillna(train[col].mean())"
   ]
  },
  {
   "cell_type": "code",
   "execution_count": 19,
   "metadata": {
    "id": "Ufq899Wm9MCe"
   },
   "outputs": [],
   "source": [
    "test_columns = test.columns\n",
    "for col in test_columns:\n",
    "    if test[col].dtype == 'object':\n",
    "        test[col] = test[col].fillna(test[col].mode()[0])\n",
    "    else:\n",
    "        test[col] = test[col].fillna(test[col].mean())"
   ]
  },
  {
   "cell_type": "markdown",
   "metadata": {},
   "source": [
    "### Convert the Categorical values to numeric and prepare the train data to pass that into the model"
   ]
  },
  {
   "cell_type": "code",
   "execution_count": 20,
   "metadata": {
    "colab": {
     "base_uri": "https://localhost:8080/"
    },
    "id": "KyErVJ6Y9NRG",
    "outputId": "b30378ed-9efe-43ea-a0b5-d10353b2d9cb"
   },
   "outputs": [
    {
     "data": {
      "text/plain": [
       "Index(['ProductCD', 'card4', 'card6'], dtype='object')"
      ]
     },
     "execution_count": 20,
     "metadata": {
      "tags": []
     },
     "output_type": "execute_result"
    }
   ],
   "source": [
    "cat_columns = train.select_dtypes(['object']).columns\n",
    "cat_columns"
   ]
  },
  {
   "cell_type": "code",
   "execution_count": 21,
   "metadata": {
    "id": "LWSg40uC9OYm"
   },
   "outputs": [],
   "source": [
    "for col in cat_columns:\n",
    "    train[col] = train[col].astype(\"category\").cat.codes\n",
    "    test[col] = test[col].astype(\"category\").cat.codes"
   ]
  },
  {
   "cell_type": "code",
   "execution_count": 22,
   "metadata": {
    "colab": {
     "base_uri": "https://localhost:8080/"
    },
    "id": "atPXrdgN9PrO",
    "outputId": "b5845797-0a4e-47bf-fb73-a4cd1956a305"
   },
   "outputs": [
    {
     "name": "stdout",
     "output_type": "stream",
     "text": [
      "(590540, 110)\n"
     ]
    }
   ],
   "source": [
    "target = train.isFraud\n",
    "train.drop(['isFraud'], axis=1, inplace=True)\n",
    "print(train.shape)"
   ]
  },
  {
   "cell_type": "markdown",
   "metadata": {},
   "source": [
    "### Define the Parameters of the Model and start training the Model"
   ]
  },
  {
   "cell_type": "code",
   "execution_count": 23,
   "metadata": {
    "id": "X3kltNKy9Q4n"
   },
   "outputs": [],
   "source": [
    "x_train = lgb.Dataset(train, label=target)"
   ]
  },
  {
   "cell_type": "code",
   "execution_count": 27,
   "metadata": {
    "id": "VMGNnznx9YN9"
   },
   "outputs": [],
   "source": [
    "lgbm_params = {'learning_rate': 0.05, 'boosting_type': 'dart',\n",
    "              'objective': 'binary',\n",
    "              'metric': ['auc', 'binary_logloss'],\n",
    "              'num_threads': 2}"
   ]
  },
  {
   "cell_type": "code",
   "execution_count": 28,
   "metadata": {
    "colab": {
     "base_uri": "https://localhost:8080/"
    },
    "id": "Cdv4QJtb9165",
    "outputId": "fc5c475d-9112-407c-9613-d4f4f77d8622"
   },
   "outputs": [
    {
     "name": "stdout",
     "output_type": "stream",
     "text": [
      "CPU times: user 1h 30min 53s, sys: 5.16 s, total: 1h 30min 58s\n",
      "Wall time: 46min 11s\n"
     ]
    }
   ],
   "source": [
    "lgbm_classifier = lgb.train(lgbm_params, x_train, 2000)"
   ]
  },
  {
   "cell_type": "markdown",
   "metadata": {},
   "source": [
    "### Predict the output of the Test Set."
   ]
  },
  {
   "cell_type": "code",
   "execution_count": 29,
   "metadata": {
    "id": "B-xMUpQ395nO"
   },
   "outputs": [],
   "source": [
    "y_pred_lgb = lgbm_classifier.predict(test)"
   ]
  },
  {
   "cell_type": "code",
   "execution_count": 31,
   "metadata": {
    "id": "6JF5cCnr-BmI"
   },
   "outputs": [],
   "source": [
    "y_pred_lgb = y_pred_lgb.reshape(y_pred_lgb.shape[0], 1)"
   ]
  },
  {
   "cell_type": "code",
   "execution_count": 30,
   "metadata": {
    "id": "ppgiRENX99sl"
   },
   "outputs": [],
   "source": [
    "sub = pd.DataFrame()\n",
    "sub['TransactionID'] = test_transactionID\n",
    "sub['isFraud'] = y_pred_lgb\n",
    "sub.to_csv('test_results.csv', index=False)"
   ]
  },
  {
   "cell_type": "markdown",
   "metadata": {},
   "source": [
    "### Save the trained model for future Inference."
   ]
  },
  {
   "cell_type": "code",
   "execution_count": 39,
   "metadata": {
    "colab": {
     "base_uri": "https://localhost:8080/"
    },
    "id": "ZCfAtq4ymFJE",
    "outputId": "c1b92c98-e049-4b4c-c207-b9fb50ef062f"
   },
   "outputs": [
    {
     "data": {
      "text/plain": [
       "<lightgbm.basic.Booster at 0x7f270d2c00d0>"
      ]
     },
     "execution_count": 39,
     "metadata": {
      "tags": []
     },
     "output_type": "execute_result"
    }
   ],
   "source": [
    "lgbm_classifier.save_model(\"model.json\")"
   ]
  },
  {
   "cell_type": "code",
   "execution_count": null,
   "metadata": {
    "id": "RoBmR3BJp5Ue"
   },
   "outputs": [],
   "source": []
  }
 ],
 "metadata": {
  "colab": {
   "collapsed_sections": [],
   "name": "BEST.ipynb",
   "provenance": []
  },
  "kernelspec": {
   "display_name": "Python 3",
   "language": "python",
   "name": "python3"
  },
  "language_info": {
   "codemirror_mode": {
    "name": "ipython",
    "version": 3
   },
   "file_extension": ".py",
   "mimetype": "text/x-python",
   "name": "python",
   "nbconvert_exporter": "python",
   "pygments_lexer": "ipython3",
   "version": "3.9.1"
  }
 },
 "nbformat": 4,
 "nbformat_minor": 1
}
